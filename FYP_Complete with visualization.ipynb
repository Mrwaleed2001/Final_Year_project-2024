{
 "cells": [
  {
   "cell_type": "markdown",
   "id": "32115c41",
   "metadata": {},
   "source": [
    "# Making Neccesary Imports"
   ]
  },
  {
   "cell_type": "code",
   "execution_count": 86,
   "id": "a6c98704",
   "metadata": {},
   "outputs": [],
   "source": [
    "import pandas as pd\n",
    "import numpy as np\n",
    "import matplotlib.pyplot as plt\n",
    "import seaborn as sns"
   ]
  },
  {
   "cell_type": "code",
   "execution_count": 87,
   "id": "f21afa0f",
   "metadata": {},
   "outputs": [],
   "source": [
    "data = pd.read_csv('data.csv')"
   ]
  },
  {
   "cell_type": "code",
   "execution_count": 88,
   "id": "c90a565e",
   "metadata": {},
   "outputs": [],
   "source": [
    "data.head(5)"
   ]
  },
  {
   "cell_type": "code",
   "execution_count": 89,
   "id": "36731a44",
   "metadata": {},
   "outputs": [],
   "source": [
    "data2 = data.iloc[:, 1:31]\n",
    "data2.head()"
   ]
  },
  {
   "cell_type": "code",
   "execution_count": 90,
   "id": "bd9611e6",
   "metadata": {},
   "outputs": [],
   "source": [
    "data2.describe()"
   ]
  },
  {
   "cell_type": "code",
   "execution_count": 91,
   "id": "2ff9bf77",
   "metadata": {},
   "outputs": [],
   "source": [
    "len(data2.columns)"
   ]
  },
  {
   "cell_type": "code",
   "execution_count": 92,
   "id": "ab21f97f",
   "metadata": {},
   "outputs": [],
   "source": [
    "data2.info()"
   ]
  },
  {
   "cell_type": "code",
   "execution_count": 93,
   "id": "0ce59fc1",
   "metadata": {},
   "outputs": [],
   "source": [
    "#Checking Data Type consistency\n",
    "data2.dtypes"
   ]
  },
  {
   "cell_type": "code",
   "execution_count": 94,
   "id": "c49b4f1f",
   "metadata": {},
   "outputs": [],
   "source": [
    "newcolumnnames= ['email', 'name', 'uni', 'degree_year','JP1', 'SN1', 'EI1', 'TF1', 'SN2', 'EI2', 'JP2', 'JP3', 'EI3', 'SN3', 'JP4', 'SN4', 'EI4', 'TF2', 'SN5', 'EI5', 'JP5', 'JP6', 'JP7', 'SN6', 'EI6', 'TF3', 'SN7', 'EI7', 'JP8', 'EI8']"
   ]
  },
  {
   "cell_type": "code",
   "execution_count": 95,
   "id": "cc983140",
   "metadata": {},
   "outputs": [],
   "source": [
    "len(newcolumnnames)"
   ]
  },
  {
   "cell_type": "code",
   "execution_count": 96,
   "id": "5975e263",
   "metadata": {},
   "outputs": [],
   "source": [
    "data2.columns = newcolumnnames\n",
    "data2.head()"
   ]
  },
  {
   "cell_type": "code",
   "execution_count": 97,
   "id": "5ed8b0a3",
   "metadata": {},
   "outputs": [],
   "source": [
    "data2.columns"
   ]
  },
  {
   "cell_type": "markdown",
   "id": "534cc4b1",
   "metadata": {},
   "source": [
    "# dropping 'name' column, as it has no relevance for target class"
   ]
  },
  {
   "cell_type": "code",
   "execution_count": 98,
   "id": "42d92d56",
   "metadata": {},
   "outputs": [],
   "source": [
    "data2.drop('name', axis = 1)"
   ]
  },
  {
   "cell_type": "code",
   "execution_count": 99,
   "id": "b639ee20",
   "metadata": {},
   "outputs": [],
   "source": [
    "#Checking count of universities\n",
    "data2['uni'].value_counts()"
   ]
  },
  {
   "cell_type": "code",
   "execution_count": 100,
   "id": "2ce8500f",
   "metadata": {},
   "outputs": [],
   "source": [
    "#In the count above we can notice that same university has provided different names for the university. That creates inconsistency and redundancy"
   ]
  },
  {
   "cell_type": "markdown",
   "id": "0db31b50",
   "metadata": {},
   "source": [
    "# Mapping universities to remove redundancies"
   ]
  },
  {
   "cell_type": "code",
   "execution_count": 101,
   "id": "886b6d1a",
   "metadata": {},
   "outputs": [],
   "source": [
    "ned = 'NEDUET|NED|ned|NED university'\n",
    "uok = 'UoK|University of Karachi|Karachi University|KU'\n",
    "bahria = 'Bahria|Bahria University'\n",
    "kiu = 'Karakuroam international university gilgit baltistan|KIU|Karakorum international university gilgit|Kiu'\n",
    "dow = 'DOW'\n",
    "iobm = 'IoBM'\n",
    "szabist = 'Szabist|SZABIST'\n",
    "uit = 'usman institute of technology|UIT|UIT UNIVERSITY|UIT University'\n",
    "fast = 'FAST'\n",
    "zu = 'ziauddin|Ziauddin|Ziauddin University'\n",
    "juw = 'JUW|Jinnah University for Women'\n",
    "kmdc = 'KMDC|Kmdc'\n",
    "iu = 'Iqra University|Iqra University|Iqra Univeristy'\n",
    "nust = 'NUST'\n",
    "kku = 'Kadir khas university'\n",
    "iuhs = 'Indus university of health and sciences'\n",
    "aiou = 'Allama Iqbal Open University'\n",
    "ssuet = 'Sir syed university of engineering and technology'\n",
    "jsmu = 'JSMU'\n",
    "hu = 'Habib University'\n",
    "tsa = 'Tabanis School of Accountancy|Tabani|TSA|Tabanis School of Accountancy'\n",
    "vu = 'VU'\n",
    "dcwg = 'degree college for women gilgit'\n",
    "aidm = 'Aidm'\n",
    "ru = 'Ryerson University'\n",
    "uob = 'University of Bolton'\n",
    "cmc = 'Cmc'\n",
    "ivs = 'Indus Valley School'\n",
    "lcmd = 'LCMD'\n",
    "iba = 'IBA'\n",
    "\n",
    "uni2 = ['NEDUET', 'UoK', 'Bahria', 'KIU', 'DOW', 'IoBM', 'SZABIST', 'UIT', 'FAST', 'Ziauddin University', 'JUW', 'KMDC',\n",
    "         'IU', 'NUST', 'KKU', 'IUHS', 'Allama Iqbal Open University', 'SSUET', 'JSMU', 'HU', 'Tabanis', 'VU', \n",
    "        'Degree College for Women Gilgit', 'AIDM', 'Ryerson University', 'University of Bolton', 'CMC', 'IVS', 'LCMD', 'IBA']\n",
    "\n",
    "conditions = [\n",
    "    (data2['uni'].str.contains(ned)),\n",
    "    (data2['uni'].str.contains(uok)),\n",
    "    (data2['uni'].str.contains(bahria)),\n",
    "    (data2['uni'].str.contains(kiu)),\n",
    "    (data2['uni'].str.contains(dow)),\n",
    "    (data2['uni'].str.contains(iobm)),\n",
    "    (data2['uni'].str.contains(szabist)),\n",
    "    (data2['uni'].str.contains(uit)),\n",
    "    (data2['uni'].str.contains(fast)),\n",
    "    (data2['uni'].str.contains(zu)),\n",
    "    (data2['uni'].str.contains(juw)),\n",
    "    (data2['uni'].str.contains(kmdc)),\n",
    "    (data2['uni'].str.contains(iu)),\n",
    "    (data2['uni'].str.contains(nust)),\n",
    "    (data2['uni'].str.contains(kku)),\n",
    "    (data2['uni'].str.contains(iuhs)),\n",
    "    (data2['uni'].str.contains(aiou)),\n",
    "    (data2['uni'].str.contains(ssuet)),\n",
    "    (data2['uni'].str.contains(jsmu)),\n",
    "    (data2['uni'].str.contains(hu)),\n",
    "    (data2['uni'].str.contains(tsa)),\n",
    "    (data2['uni'].str.contains(vu)),\n",
    "    (data2['uni'].str.contains(dcwg)),\n",
    "    (data2['uni'].str.contains(aidm)),\n",
    "    (data2['uni'].str.contains(ru)),\n",
    "    (data2['uni'].str.contains(uob)),\n",
    "    (data2['uni'].str.contains(cmc)),\n",
    "    (data2['uni'].str.contains(ivs)),\n",
    "    (data2['uni'].str.contains(lcmd)),\n",
    "    (data2['uni'].str.contains(iba))\n",
    "] \n",
    "\n",
    "data2[\"university\"] = np.select(conditions, uni2, default=\"Other\")\n",
    "\n"
   ]
  },
  {
   "cell_type": "code",
   "execution_count": 102,
   "id": "d6f1cb3a",
   "metadata": {},
   "outputs": [],
   "source": [
    "data2['university'].value_counts()"
   ]
  },
  {
   "cell_type": "code",
   "execution_count": 103,
   "id": "2ac990f8",
   "metadata": {},
   "outputs": [],
   "source": [
    "university_counts = data2['university'].value_counts()\n",
    "\n",
    "plt.figure(figsize=(10, 8))\n",
    "plt.pie(university_counts, labels=university_counts.index, autopct='%1.1f%%', startangle=140,\n",
    "        textprops={'fontsize': 5})  # Adjust the font size for labels here\n",
    "plt.title('Distribution of Universities', fontsize=14)\n",
    "plt.axis('equal')  # Equal aspect ratio ensures that the pie chart is circular.\n",
    "plt.show()"
   ]
  },
  {
   "cell_type": "code",
   "execution_count": 104,
   "id": "220a4eb4",
   "metadata": {},
   "outputs": [],
   "source": [
    "university_counts = data2['university'].value_counts()\n",
    "\n",
    "# Create a bar plot using seaborn\n",
    "plt.figure(figsize=(12, 8))\n",
    "sns.barplot(x=university_counts.index, y=university_counts, palette=\"viridis\")\n",
    "\n",
    "# Add labels and title\n",
    "plt.xlabel('University')\n",
    "plt.ylabel('Count')\n",
    "plt.title('Distribution of Universities')\n",
    "\n",
    "# Rotate x-axis labels for better readability (optional)\n",
    "plt.xticks(rotation=45, ha=\"right\")\n",
    "\n",
    "plt.show()"
   ]
  },
  {
   "cell_type": "markdown",
   "id": "3a8aeb1b",
   "metadata": {},
   "source": [
    "# Ordering question columns as per class\n",
    "#### format : Question : <'class(2characters) question number(1 character)'>"
   ]
  },
  {
   "cell_type": "code",
   "execution_count": 105,
   "id": "34f14872",
   "metadata": {},
   "outputs": [],
   "source": [
    "# Get the column names\n",
    "columns = data2.columns\n",
    "\n",
    "# Sort the columns based on initials\n",
    "sorted_columns = sorted(columns, key=lambda x: (x[:2], x))\n",
    "\n",
    "# Reorder the DataFrame based on the sorted columns\n",
    "data3 = data2[sorted_columns]\n",
    "\n",
    "# # Save the modified DataFrame back to a CSV file\n",
    "# df.to_csv('modified_file.csv', index=False)\n",
    "\n",
    "data3\n"
   ]
  },
  {
   "cell_type": "code",
   "execution_count": 106,
   "id": "e9d4484e",
   "metadata": {},
   "outputs": [],
   "source": [
    "# data3.to_csv('data_reordered_19_2_24.csv', index=False)\n",
    "# data3.to_excel('data_reordered_19_2_24.xlsx', index=False)"
   ]
  },
  {
   "cell_type": "code",
   "execution_count": 107,
   "id": "73bd6f8b",
   "metadata": {},
   "outputs": [],
   "source": [
    "second_half_data=data3.iloc[130:,:]"
   ]
  },
  {
   "cell_type": "code",
   "execution_count": 108,
   "id": "008c8e04",
   "metadata": {},
   "outputs": [],
   "source": [
    "second_half_data['EI1'].value_counts()\n",
    "#Columns after 126 are to be mapped to the relvant options instead of fixed strings"
   ]
  },
  {
   "cell_type": "markdown",
   "id": "6df2b5bc",
   "metadata": {},
   "source": [
    "# Mapping answers to relevant options (A, B, or C) for questions with fixed strings mostly"
   ]
  },
  {
   "cell_type": "markdown",
   "id": "79f64a6b",
   "metadata": {},
   "source": [
    "# EI Classes"
   ]
  },
  {
   "cell_type": "code",
   "execution_count": 109,
   "id": "8a54b2e5",
   "metadata": {},
   "outputs": [],
   "source": [
    "A='Rather quiet and reserved?'\n",
    "B='A good mixer with groups of people.'\n",
    "both='Both'\n",
    "conditions=[second_half_data['EI1'].str.contains(A),second_half_data['EI1'].str.contains(B),second_half_data['EI1'].str.contains(both)]\n",
    "second_half_data['EI1'] = np.select(conditions,['A','B','BOTH'], default=\"BOTH\")"
   ]
  },
  {
   "cell_type": "code",
   "execution_count": 110,
   "id": "1a6b602a",
   "metadata": {},
   "outputs": [],
   "source": [
    "second_half_data['EI1'].value_counts()"
   ]
  },
  {
   "cell_type": "code",
   "execution_count": 111,
   "id": "aa47ca6d",
   "metadata": {},
   "outputs": [],
   "source": [
    "second_half_data['EI2'].value_counts()"
   ]
  },
  {
   "cell_type": "code",
   "execution_count": 112,
   "id": "2fa409fc",
   "metadata": {},
   "outputs": [],
   "source": [
    "A='Full of news about everybody'\n",
    "B='One of the last to hear about what is going on'\n",
    "conditions=[second_half_data['EI2'].str.contains(A),second_half_data['EI2'].str.contains(B)]\n",
    "second_half_data['EI2'] = np.select(conditions,['A','B'], default=\"BOTH\")\n",
    "second_half_data['EI2'].value_counts() "
   ]
  },
  {
   "cell_type": "code",
   "execution_count": 113,
   "id": "83253407",
   "metadata": {},
   "outputs": [],
   "source": [
    "second_half_data['EI3'].value_counts() "
   ]
  },
  {
   "cell_type": "code",
   "execution_count": 114,
   "id": "90f4090c",
   "metadata": {},
   "outputs": [],
   "source": [
    "A='Broad friendships with many different people|Deep friendship with many people'\n",
    "B='Deep friendship with very few people'\n",
    "conditions=[second_half_data['EI3'].str.contains(A),second_half_data['EI3'].str.contains(B)]\n",
    "second_half_data['EI3'] = np.select(conditions,['A','B'], default=\"BOTH/IGNORE\")\n",
    "second_half_data['EI3'].value_counts() "
   ]
  },
  {
   "cell_type": "code",
   "execution_count": 115,
   "id": "8c1a331f",
   "metadata": {},
   "outputs": [],
   "source": [
    "second_half_data['EI4'].value_counts()"
   ]
  },
  {
   "cell_type": "code",
   "execution_count": 116,
   "id": "701bd34f",
   "metadata": {},
   "outputs": [],
   "source": [
    "A='Join in the talk of the group'\n",
    "B='Stand back and listen first'\n",
    "conditions=[second_half_data['EI4'].str.contains(A),second_half_data['EI4'].str.contains(B)]\n",
    "second_half_data['EI4'] = np.select(conditions,['A','B'], default=\"BOTH/IGNORE\")\n",
    "second_half_data['EI4'].value_counts() "
   ]
  },
  {
   "cell_type": "code",
   "execution_count": 117,
   "id": "753cec4f",
   "metadata": {},
   "outputs": [],
   "source": [
    "second_half_data['EI5'].value_counts()"
   ]
  },
  {
   "cell_type": "code",
   "execution_count": 118,
   "id": "162bed62",
   "metadata": {},
   "outputs": [],
   "source": [
    "A='Talk easily to almost anyone for as long as you have to|Talk easily with whom I know or comfortable with'\n",
    "B='Find a lot to say only to certain people or under certain conditions'\n",
    "conditions=[second_half_data['EI5'].str.contains(A),second_half_data['EI5'].str.contains(B)]\n",
    "second_half_data['EI5'] = np.select(conditions,['A','B'], default=\"BOTH\")\n",
    "second_half_data['EI5'].value_counts() "
   ]
  },
  {
   "cell_type": "code",
   "execution_count": 119,
   "id": "60ace56f",
   "metadata": {},
   "outputs": [],
   "source": [
    "A='Do you more often introduce others'\n",
    "B='Get introduced'\n",
    "conditions=[second_half_data['EI6'].str.contains(A),second_half_data['EI6'].str.contains(B)]\n",
    "second_half_data['EI6'] = np.select(conditions,['A','B'], default=\"BOTH\")\n",
    "second_half_data['EI6'].value_counts() "
   ]
  },
  {
   "cell_type": "code",
   "execution_count": 120,
   "id": "fa108d89",
   "metadata": {},
   "outputs": [],
   "source": [
    "second_half_data['EI7'].value_counts()"
   ]
  },
  {
   "cell_type": "code",
   "execution_count": 121,
   "id": "c9812813",
   "metadata": {},
   "outputs": [],
   "source": [
    "A='Right away'\n",
    "B='Only after they really get to know you'\n",
    "conditions=[second_half_data['EI7'].str.contains(A),second_half_data['EI7'].str.contains(B)]\n",
    "second_half_data['EI7'] = np.select(conditions,['A','B'], default=\"BOTH\")\n",
    "second_half_data['EI7'].value_counts()"
   ]
  },
  {
   "cell_type": "code",
   "execution_count": 122,
   "id": "d85ea212",
   "metadata": {},
   "outputs": [],
   "source": [
    "second_half_data['EI8'].value_counts()"
   ]
  },
  {
   "cell_type": "code",
   "execution_count": 123,
   "id": "7b749f9e",
   "metadata": {},
   "outputs": [],
   "source": [
    "A='Show your feelings freely'\n",
    "B='Keep your feelings to yourself'\n",
    "conditions=[second_half_data['EI8'].str.contains(A),second_half_data['EI8'].str.contains(B)]\n",
    "second_half_data['EI8'] = np.select(conditions,['A','B'], default=\"BOTH\")\n",
    "second_half_data['EI8'].value_counts()"
   ]
  },
  {
   "cell_type": "markdown",
   "id": "df478f2c",
   "metadata": {},
   "source": [
    "# JP Classes"
   ]
  },
  {
   "cell_type": "code",
   "execution_count": 124,
   "id": "b4f527cd",
   "metadata": {},
   "outputs": [],
   "source": [
    "second_half_data['JP1'].value_counts()"
   ]
  },
  {
   "cell_type": "code",
   "execution_count": 125,
   "id": "460be26d",
   "metadata": {},
   "outputs": [],
   "source": [
    "A='Plan what you will do and when'\n",
    "B='Just Go!!'\n",
    "conditions=[second_half_data['JP1'].str.contains(A),second_half_data['JP1'].str.contains(B)]\n",
    "second_half_data['JP1'] = np.select(conditions,['A','B'], default=\"BOTH\")\n",
    "second_half_data['JP1'].value_counts()"
   ]
  },
  {
   "cell_type": "code",
   "execution_count": 126,
   "id": "2f630bca",
   "metadata": {},
   "outputs": [],
   "source": [
    "second_half_data['JP2'].value_counts()"
   ]
  },
  {
   "cell_type": "code",
   "execution_count": 127,
   "id": "8d14936b",
   "metadata": {},
   "outputs": [],
   "source": [
    "A='Help you'\n",
    "B='Stress you'\n",
    "C='Positively depress you'\n",
    "conditions=[second_half_data['JP2'].str.contains(A),second_half_data['JP2'].str.contains(B),second_half_data['JP2'].str.contains(C)]\n",
    "second_half_data['JP2'] = np.select(conditions,['A','B','C'], default=\"BOTH\")\n",
    "second_half_data['JP2'].value_counts()"
   ]
  },
  {
   "cell_type": "code",
   "execution_count": 128,
   "id": "81b8d75f",
   "metadata": {},
   "outputs": [],
   "source": [
    "A='Organize it carefully before you start'\n",
    "B='Find out what is necessary as you go along'\n",
    "conditions=[second_half_data['JP3'].str.contains(A),second_half_data['JP3'].str.contains(B)]\n",
    "second_half_data['JP3'] = np.select(conditions,['A','B'], default=\"BOTH\")\n",
    "second_half_data['JP3'].value_counts()"
   ]
  },
  {
   "cell_type": "code",
   "execution_count": 129,
   "id": "e0152a85",
   "metadata": {},
   "outputs": [],
   "source": [
    "A='Arrange picnics, parties etc, well in advance'\n",
    "B='Be free to do whatever to looks like fun when the time comes'\n",
    "conditions=[second_half_data['JP4'].str.contains(A),second_half_data['JP4'].str.contains(B)]\n",
    "second_half_data['JP4'] = np.select(conditions,['A','B'], default=\"BOTH\")\n",
    "second_half_data['JP4'].value_counts()"
   ]
  },
  {
   "cell_type": "code",
   "execution_count": 130,
   "id": "5079a5a4",
   "metadata": {},
   "outputs": [],
   "source": [
    "second_half_data['JP5'].value_counts()"
   ]
  },
  {
   "cell_type": "code",
   "execution_count": 131,
   "id": "49d30756",
   "metadata": {},
   "outputs": [],
   "source": [
    "A='Appeal to you'\n",
    "B='Cramp you'\n",
    "conditions=[second_half_data['JP5'].str.contains(A),second_half_data['JP5'].str.contains(B)]\n",
    "second_half_data['JP5'] = np.select(conditions,['A','B'], default=\"BOTH\")\n",
    "second_half_data['JP5'].value_counts()"
   ]
  },
  {
   "cell_type": "code",
   "execution_count": 132,
   "id": "20c4f595",
   "metadata": {},
   "outputs": [],
   "source": [
    "A='Nice to be able to plan accordingly'\n",
    "B='A little unpleasant to be tied down'\n",
    "conditions=[second_half_data['JP6'].str.contains(A),second_half_data['JP6'].str.contains(B)]\n",
    "second_half_data['JP6'] = np.select(conditions,['A','B'], default=\"BOTH\")\n",
    "second_half_data['JP6'].value_counts()"
   ]
  },
  {
   "cell_type": "code",
   "execution_count": 133,
   "id": "b4a83e65",
   "metadata": {},
   "outputs": [],
   "source": [
    "A='At following a carefully worked out plan'\n",
    "B='At dealing with the unexpected and seeing quickly what should be done'\n",
    "conditions=[second_half_data['JP7'].str.contains(A),second_half_data['JP7'].str.contains(B)]\n",
    "second_half_data['JP7'] = np.select(conditions,['A','B'], default=\"BOTH\")\n",
    "second_half_data['JP7'].value_counts()"
   ]
  },
  {
   "cell_type": "code",
   "execution_count": 134,
   "id": "d7f0ae63",
   "metadata": {},
   "outputs": [],
   "source": [
    "A='Usually plan your work so you won’t need to work under pressure'\n",
    "B='Rather enjoy an emergency that makes you work against time'\n",
    "C='Hate to work under pressure'\n",
    "conditions=[second_half_data['JP8'].str.contains(A),second_half_data['JP8'].str.contains(B),second_half_data['JP8'].str.contains(C)]\n",
    "second_half_data['JP8'] = np.select(conditions,['A','B','C'], default=\"BOTH\")\n",
    "second_half_data['JP8'].value_counts()"
   ]
  },
  {
   "cell_type": "markdown",
   "id": "f172d710",
   "metadata": {},
   "source": [
    "# TF classes"
   ]
  },
  {
   "cell_type": "code",
   "execution_count": 135,
   "id": "1afd9e6a",
   "metadata": {},
   "outputs": [],
   "source": [
    "A='Your heart rule your head'\n",
    "B='Your head rule your heart'\n",
    "conditions=[second_half_data['TF1'].str.contains(A),second_half_data['TF1'].str.contains(B)]\n",
    "second_half_data['TF1'] = np.select(conditions,['A','B'], default=\"BOTH\")\n",
    "second_half_data['TF1'].value_counts()"
   ]
  },
  {
   "cell_type": "code",
   "execution_count": 136,
   "id": "12abf73a",
   "metadata": {},
   "outputs": [],
   "source": [
    "A='A person of real feeling'\n",
    "B='A consistently reasonable person'\n",
    "conditions=[second_half_data['TF2'].str.contains(A),second_half_data['TF2'].str.contains(B)]\n",
    "second_half_data['TF2'] = np.select(conditions,['A','B'], default=\"BOTH\")\n",
    "second_half_data['TF2'].value_counts()"
   ]
  },
  {
   "cell_type": "code",
   "execution_count": 137,
   "id": "bca46688",
   "metadata": {},
   "outputs": [],
   "source": [
    "A='Value emotion more than logic'\n",
    "B='Value logic more than feelings'\n",
    "conditions=[second_half_data['TF3'].str.contains(A),second_half_data['TF3'].str.contains(B)]\n",
    "second_half_data['TF3'] = np.select(conditions,['A','B'], default=\"BOTH\")\n",
    "second_half_data['TF3'].value_counts()"
   ]
  },
  {
   "cell_type": "markdown",
   "id": "7ae9e611",
   "metadata": {},
   "source": [
    "# SN Classes"
   ]
  },
  {
   "cell_type": "code",
   "execution_count": 138,
   "id": "4649cf84",
   "metadata": {},
   "outputs": [],
   "source": [
    "A='Facts-Based Courses'\n",
    "B='Courses Involving Opinion or Theory'\n",
    "conditions=[second_half_data['SN1'].str.contains(A),second_half_data['SN1'].str.contains(B)]\n",
    "second_half_data['SN1'] = np.select(conditions,['A','B'], default=\"BOTH\")\n",
    "second_half_data['SN1'].value_counts()"
   ]
  },
  {
   "cell_type": "code",
   "execution_count": 139,
   "id": "128c24b0",
   "metadata": {},
   "outputs": [],
   "source": [
    "A='Invent a way of your own'\n",
    "B='Do it in the accepted way'\n",
    "conditions=[second_half_data['SN2'].str.contains(A),second_half_data['SN2'].str.contains(B)]\n",
    "second_half_data['SN2'] = np.select(conditions,['A','B'], default=\"BOTH\")\n",
    "second_half_data['SN2'].value_counts()"
   ]
  },
  {
   "cell_type": "code",
   "execution_count": 140,
   "id": "68a18296",
   "metadata": {},
   "outputs": [],
   "source": [
    "A='Normal-acting to never make themselves the center of attention'\n",
    "B='Too original and individual to care whether they are the center of attention or not'\n",
    "conditions=[second_half_data['SN3'].str.contains(A),second_half_data['SN3'].str.contains(B)]\n",
    "second_half_data['SN3'] = np.select(conditions,['A','B'], default=\"BOTH\")\n",
    "second_half_data['SN3'].value_counts()"
   ]
  },
  {
   "cell_type": "code",
   "execution_count": 141,
   "id": "d068b3c7",
   "metadata": {},
   "outputs": [],
   "source": [
    "A='Realistic people'\n",
    "B='Imaginative people'\n",
    "conditions=[second_half_data['SN4'].str.contains(A),second_half_data['SN4'].str.contains(B)]\n",
    "second_half_data['SN4'] = np.select(conditions,['A','B'], default=\"BOTH\")\n",
    "second_half_data['SN4'].value_counts()"
   ]
  },
  {
   "cell_type": "code",
   "execution_count": 142,
   "id": "fcc8245e",
   "metadata": {},
   "outputs": [],
   "source": [
    "A='You enjoy odd or original ways of saying things'\n",
    "B='Like writers to say exactly what they mean'\n",
    "conditions=[second_half_data['SN5'].str.contains(A),second_half_data['SN5'].str.contains(B)]\n",
    "second_half_data['SN5'] = np.select(conditions,['A','B'], default=\"BOTH\")\n",
    "second_half_data['SN5'].value_counts()"
   ]
  },
  {
   "cell_type": "code",
   "execution_count": 143,
   "id": "21328e9f",
   "metadata": {},
   "outputs": [],
   "source": [
    "A='A practical person'\n",
    "B='An out-of-the-box-thinking person'\n",
    "conditions=[second_half_data['SN6'].str.contains(A),second_half_data['SN6'].str.contains(B)]\n",
    "second_half_data['SN6'] = np.select(conditions,['A','B'], default=\"BOTH\")\n",
    "second_half_data['SN6'].value_counts()"
   ]
  },
  {
   "cell_type": "code",
   "execution_count": 144,
   "id": "7aa64f09",
   "metadata": {},
   "outputs": [],
   "source": [
    "A='Someone who is always coming up with new ideas'\n",
    "B='Someone who has both feet on the ground'\n",
    "conditions=[second_half_data['SN7'].str.contains(A),second_half_data['SN7'].str.contains(B)]\n",
    "second_half_data['SN7'] = np.select(conditions,['A','B'], default=\"BOTH\")\n",
    "second_half_data['SN7'].value_counts()"
   ]
  },
  {
   "cell_type": "markdown",
   "id": "49167e1f",
   "metadata": {},
   "source": [
    "## Option Mapping Done \n"
   ]
  },
  {
   "cell_type": "code",
   "execution_count": 145,
   "id": "1996f7d7",
   "metadata": {},
   "outputs": [],
   "source": [
    "first_half_data = pd.read_csv('first126labelled.csv')\n",
    "first_half_data['EI1'].value_counts() #for checking purpose\n",
    "first_half_data.head(5) #checking index column"
   ]
  },
  {
   "cell_type": "code",
   "execution_count": 146,
   "id": "dbce3420",
   "metadata": {},
   "outputs": [],
   "source": [
    "final_df = pd.concat([first_half_data, second_half_data], ignore_index = True)\n",
    "final_df.head(5)"
   ]
  },
  {
   "cell_type": "markdown",
   "id": "d968e5f9",
   "metadata": {},
   "source": [
    "# Algorithm for assigning values to Target Class"
   ]
  },
  {
   "cell_type": "markdown",
   "id": "15ed083c",
   "metadata": {},
   "source": [
    "### Algorithm for E or I class"
   ]
  },
  {
   "cell_type": "code",
   "execution_count": 147,
   "id": "18aadd60",
   "metadata": {},
   "outputs": [],
   "source": [
    "# Setting up dictionaries for all classes\n",
    "\n",
    "EI = {'EI1':{'A': 2, 'B': 2}, 'EI2': {'A': 2, 'B': 1}, 'EI3':{'A': 2, 'B': 1}, 'EI4':{'A': 1, 'B': 2}, 'EI5':{'A': 2, 'B': 2}, \n",
    "      'EI6':{'A': 2, 'B': 2}, 'EI7':{'A': 1, 'B': 1}, 'EI8':{'A': 1, 'B': 0}}\n",
    "\n",
    "SN = {'SN1':{'A': '2S', 'B': '2N'}, 'SN2':{'A': '1N', 'B': '1S'}, 'SN3':{'A': '1S', 'B': '2N'}, 'SN4':{'A': '1S', 'B': '2N'}, \n",
    "      'SN5':{'A': '0N', 'B': '1S'}, 'SN6':{'A': '2S', 'B': '2N'}, 'SN7':{'A': '1N', 'B': '2S'}}\n",
    "\n",
    "TF = {'TF1':{'A': '1F', 'B': '2T'}, 'TF2':{'A': '1F', 'B': '2T'}, 'TF3':{'A': '2F', 'B': '2T'}}\n",
    "\n",
    "JP = {'JP1':{'A': '2J', 'B': '2P'}, 'JP2': {'A': '1J', 'B': '1P', 'C': '1P'}, 'JP3':{'A': '1J', 'B': '2P'}, \n",
    "      'JP4':{'A': '2J', 'B': '1P'}, 'JP5':{'A': '2J', 'B': '2P'}, 'JP6':{'A': '1J', 'B': '1P'}, 'JP7':{'A': '1J', 'B': '1P'}, \n",
    "      'JP8':{'A': '1J', 'B': '1P', 'C':'0J'}}\n"
   ]
  },
  {
   "cell_type": "code",
   "execution_count": 148,
   "id": "58cb9c91",
   "metadata": {},
   "outputs": [],
   "source": [
    "# Assuming your DataFrame has columns named after the keys in EI\n",
    "cols_of_interest = list(EI.keys())\n",
    "\n",
    "# Add a new column to store the result\n",
    "final_df['Result E/I'] = ''\n",
    "\n",
    "# FOR LOOP\n",
    "for index, row in final_df.iterrows():\n",
    "    total_score_A = 0\n",
    "    total_score_B = 0\n",
    "    for col in cols_of_interest:\n",
    "        choice = row[col]\n",
    "        total_score_A += EI[col]['A'] if choice == 'A' else 0\n",
    "        total_score_B += EI[col]['B'] if choice == 'B' else 0\n",
    "    \n",
    "    # Compare total scores and store the result\n",
    "    if total_score_A > total_score_B:\n",
    "        final_df.at[index, 'Result E/I'] = 'E'\n",
    "    elif total_score_B > total_score_A:\n",
    "        final_df.at[index, 'Result E/I'] = 'I'\n",
    "    else:\n",
    "        # Handle tie or equality as per your requirement\n",
    "        final_df.at[index, 'Result E/I'] = 'Tie'\n",
    "\n",
    "# Now df['Result'] will contain the result string for each row\n",
    "print(final_df[['Result E/I']])"
   ]
  },
  {
   "cell_type": "markdown",
   "id": "7dfa93ff",
   "metadata": {},
   "source": [
    "## algorithm for S or N class"
   ]
  },
  {
   "cell_type": "code",
   "execution_count": 149,
   "id": "6ae92dd1",
   "metadata": {},
   "outputs": [],
   "source": [
    "# Assuming your DataFrame has columns named after the keys in EI\n",
    "cols_of_interest = list(SN.keys())\n",
    "\n",
    "# Add a new column to store the result\n",
    "final_df['Result S/N'] = ''\n",
    "\n",
    "# FOR LOOP\n",
    "for index, row in final_df.iterrows():\n",
    "    total_score_S = 0\n",
    "    total_score_N = 0\n",
    "    for col in cols_of_interest:\n",
    "        choice = row[col]\n",
    "        if choice == 'A':\n",
    "            target_class_score = SN[col]['A']\n",
    "            target_score = int(target_class_score[0])\n",
    "            if target_class_score[-1] == 'S':\n",
    "                total_score_S  += target_score\n",
    "            elif target_class_score[-1] == 'N':\n",
    "                total_score_N  += target_score\n",
    "        elif choice == 'B':\n",
    "            target_class_score = SN[col]['B']\n",
    "            target_score = int(target_class_score[0])\n",
    "            if target_class_score[-1] == 'S':\n",
    "                total_score_S  += target_score\n",
    "            elif target_class_score[-1] == 'N':\n",
    "                total_score_N  += target_score\n",
    "    \n",
    "    # Compare total scores and store the result\n",
    "    if total_score_S > total_score_N:\n",
    "        final_df.at[index, 'Result S/N'] = 'S'\n",
    "    elif total_score_N > total_score_S:\n",
    "        final_df.at[index, 'Result S/N'] = 'N'\n",
    "    else:\n",
    "        # Handle tie or equality as per your requirement\n",
    "        final_df.at[index, 'Result S/N'] = 'Tie'\n",
    "\n",
    "# Now df['Result'] will contain the result string for each row\n",
    "print(final_df[['Result S/N']])"
   ]
  },
  {
   "cell_type": "markdown",
   "id": "5987f202",
   "metadata": {},
   "source": [
    "## Algorithm for T or F class"
   ]
  },
  {
   "cell_type": "code",
   "execution_count": 150,
   "id": "da92bb93",
   "metadata": {},
   "outputs": [],
   "source": [
    "# Assuming your DataFrame has columns named after the keys in EI\n",
    "cols_of_interest = list(TF.keys())\n",
    "\n",
    "# Add a new column to store the result\n",
    "final_df['Result T/F'] = ''\n",
    "\n",
    "# FOR LOOP\n",
    "for index, row in final_df.iterrows():\n",
    "    total_score_T = 0\n",
    "    total_score_F = 0\n",
    "    for col in cols_of_interest:\n",
    "        choice = row[col]\n",
    "        if choice == 'A':\n",
    "            target_class_score = TF[col]['A']\n",
    "            target_score = int(target_class_score[0])\n",
    "            if target_class_score[-1] == 'T':\n",
    "                total_score_T  += target_score\n",
    "            elif target_class_score[-1] == 'F':\n",
    "                total_score_F  += target_score\n",
    "        elif choice == 'B':\n",
    "            target_class_score = TF[col]['B']\n",
    "            target_score = int(target_class_score[0])\n",
    "            if target_class_score[-1] == 'T':\n",
    "                total_score_T  += target_score\n",
    "            elif target_class_score[-1] == 'F':\n",
    "                total_score_F  += target_score\n",
    "    \n",
    "    # Compare total scores and store the result\n",
    "    if total_score_T > total_score_F:\n",
    "        final_df.at[index, 'Result T/F'] = 'T'\n",
    "    elif total_score_F > total_score_T:\n",
    "        final_df.at[index, 'Result T/F'] = 'F'\n",
    "    else:\n",
    "        # Handle tie or equality as per your requirement\n",
    "        final_df.at[index, 'Result T/F'] = 'Tie'\n",
    "\n",
    "# Now df['Result'] will contain the result string for each row\n",
    "print(final_df[['Result T/F']])"
   ]
  },
  {
   "cell_type": "markdown",
   "id": "5ea515b1",
   "metadata": {},
   "source": [
    "## Algorithm for J or P class"
   ]
  },
  {
   "cell_type": "code",
   "execution_count": 151,
   "id": "338141c3",
   "metadata": {},
   "outputs": [],
   "source": [
    "# Assuming your DataFrame has columns named after the keys in EI\n",
    "cols_of_interest = list(JP.keys())\n",
    "\n",
    "# Add a new column to store the result\n",
    "final_df['Result J/P'] = ''\n",
    "\n",
    "# FOR LOOP\n",
    "for index, row in final_df.iterrows():\n",
    "    total_score_J = 0\n",
    "    total_score_P = 0\n",
    "    for col in cols_of_interest:\n",
    "        choice = row[col]\n",
    "        if choice == 'A':\n",
    "            target_class_score = JP[col]['A']\n",
    "            target_score = int(target_class_score[0])\n",
    "            if target_class_score[-1] == 'J':\n",
    "                total_score_J  += target_score\n",
    "            elif target_class_score[-1] == 'P':\n",
    "                total_score_P  += target_score\n",
    "        elif choice == 'B':\n",
    "            target_class_score = JP[col]['B']\n",
    "            target_score = int(target_class_score[0])\n",
    "            if target_class_score[-1] == 'J':\n",
    "                total_score_J  += target_score\n",
    "            elif target_class_score[-1] == 'P':\n",
    "                total_score_P  += target_score\n",
    "        elif choice == 'C':\n",
    "            target_class_score = JP[col]['C']\n",
    "            target_score = int(target_class_score[0])\n",
    "            if target_class_score[-1] == 'J':\n",
    "                total_score_J  += target_score\n",
    "            elif target_class_score[-1] == 'P':\n",
    "                total_score_P  += target_score                \n",
    "    \n",
    "    # Compare total scores and store the result\n",
    "    if total_score_J > total_score_P:\n",
    "        final_df.at[index, 'Result J/P'] = 'J'\n",
    "    elif total_score_P > total_score_J:\n",
    "        final_df.at[index, 'Result J/P'] = 'P'\n",
    "    else:\n",
    "        # Handle tie or equality as per your requirement\n",
    "        final_df.at[index, 'Result J/P'] = 'Tie'\n",
    "\n",
    "# Now df['Result'] will contain the result string for each row\n",
    "print(final_df[['Result J/P']])"
   ]
  },
  {
   "cell_type": "markdown",
   "id": "49d119a7",
   "metadata": {},
   "source": [
    "## Solving Tie Breakers"
   ]
  },
  {
   "cell_type": "code",
   "execution_count": 152,
   "id": "6e523f54",
   "metadata": {},
   "outputs": [],
   "source": [
    "print('The tie values for EI, JP, SN, TF classes are:')\n",
    "\n",
    "print(len(final_df.loc[final_df['Result E/I'] == 'Tie']),\n",
    "len(final_df.loc[final_df['Result J/P'] == 'Tie']),\n",
    "len(final_df.loc[final_df['Result S/N'] == 'Tie']),\n",
    "len(final_df.loc[final_df['Result T/F'] == 'Tie']))\n",
    "\n",
    "plt.figure(figsize=(7, 4))\n",
    "sns.barplot(data=final_df, y=['EI Tie','JP Tie','SN Tie','TF Tie'],x=[len(final_df.loc[final_df['Result E/I'] == 'Tie']),\n",
    "len(final_df.loc[final_df['Result J/P'] == 'Tie']),\n",
    "len(final_df.loc[final_df['Result S/N'] == 'Tie']),\n",
    "len(final_df.loc[final_df['Result T/F'] == 'Tie'])])\n",
    "plt.xlabel('Count')\n",
    "plt.ylabel('Classes')\n",
    "plt.title('Ties in each class')\n",
    "plt.show()"
   ]
  },
  {
   "cell_type": "code",
   "execution_count": 153,
   "id": "83a90293",
   "metadata": {},
   "outputs": [],
   "source": [
    "# breaking EI ties\n",
    "\n",
    "condition = [final_df['Result E/I'].str.contains('Tie'), final_df['Result E/I'].str.contains('E'), \n",
    "             final_df['Result E/I'].str.contains('I')]\n",
    "final_df['Result E/I'] = np.select(condition, ['I', 'E', 'I'])\n",
    "print(len(final_df.loc[final_df['Result E/I'] == 'Tie']))"
   ]
  },
  {
   "cell_type": "code",
   "execution_count": 154,
   "id": "a8ed5113",
   "metadata": {},
   "outputs": [],
   "source": [
    "# breaking JP ties\n",
    "\n",
    "condition = [final_df['Result J/P'].str.contains('Tie'), final_df['Result J/P'].str.contains('J'),\n",
    "            final_df['Result J/P'].str.contains('P')]\n",
    "final_df['Result J/P'] = np.select(condition, ['P', 'J', 'P'])\n",
    "print(len(final_df.loc[final_df['Result J/P'] == 'Tie']))"
   ]
  },
  {
   "cell_type": "code",
   "execution_count": 155,
   "id": "2c6186fc",
   "metadata": {},
   "outputs": [],
   "source": [
    "# breaking SN ties\n",
    "\n",
    "condition = [final_df['Result S/N'].str.contains('Tie'), final_df['Result S/N'].str.contains('S'), \n",
    "            final_df['Result S/N'].str.contains('N')]\n",
    "final_df['Result S/N'] = np.select(condition, ['N', 'S', 'N'])\n",
    "print(len(final_df.loc[final_df['Result S/N'] == 'Tie']))"
   ]
  },
  {
   "cell_type": "markdown",
   "id": "5dcd14fe",
   "metadata": {},
   "source": [
    "## Tie breaker for T/F class will be solved manually as they are gender-based. (khud se krna billu)"
   ]
  },
  {
   "cell_type": "code",
   "execution_count": 156,
   "id": "14233f50",
   "metadata": {},
   "outputs": [],
   "source": [
    "final_df"
   ]
  },
  {
   "cell_type": "code",
   "execution_count": 157,
   "id": "04c75c70",
   "metadata": {},
   "outputs": [],
   "source": [
    "final_df['Result E/I'].value_counts()"
   ]
  },
  {
   "cell_type": "code",
   "execution_count": 158,
   "id": "1153f3fb",
   "metadata": {},
   "outputs": [],
   "source": [
    "final_df['Result J/P'].value_counts()"
   ]
  },
  {
   "cell_type": "code",
   "execution_count": 159,
   "id": "e6ebce1d",
   "metadata": {
    "scrolled": true
   },
   "outputs": [],
   "source": [
    "final_df['Result S/N'].value_counts()"
   ]
  },
  {
   "cell_type": "code",
   "execution_count": 160,
   "id": "e86daa44",
   "metadata": {},
   "outputs": [],
   "source": [
    "#Final Data after TF tie breaker solved\n",
    "#This is a new file formed after TF tie breaker was solved\n",
    "final_df_2 = pd.read_csv('final_data.csv')"
   ]
  },
  {
   "cell_type": "markdown",
   "id": "ebee43a2",
   "metadata": {},
   "source": [
    "## MAPPING 4 DIFFERENT CLASSES INTO ONE FINAL TARGET CLASS"
   ]
  },
  {
   "cell_type": "code",
   "execution_count": 161,
   "id": "d03c5414",
   "metadata": {},
   "outputs": [],
   "source": [
    "final_df_2['target'] = final_df_2['Result E/I'] + final_df_2['Result S/N'] + final_df_2['Result T/F'] + final_df_2['Result J/P']\n",
    "final_df_2['target']"
   ]
  },
  {
   "cell_type": "code",
   "execution_count": 162,
   "id": "d52a2dcd",
   "metadata": {},
   "outputs": [],
   "source": [
    "# final_df.to_csv('almost_final_data.csv')\n",
    "# final_df.to_excel('almost_final_data.xlsx')\n",
    "# This file was renamed to final_data.csv after solving TF tie breaker"
   ]
  },
  {
   "cell_type": "code",
   "execution_count": 163,
   "id": "70a90ab7",
   "metadata": {},
   "outputs": [],
   "source": [
    "final_df_2.head()"
   ]
  },
  {
   "cell_type": "markdown",
   "id": "61e69901",
   "metadata": {},
   "source": [
    "# Visualization"
   ]
  },
  {
   "cell_type": "code",
   "execution_count": 164,
   "id": "80a1afe1",
   "metadata": {},
   "outputs": [],
   "source": [
    "plt.figure(figsize=(12, 8))\n",
    "# Spread of each class over number of records and how dense the results are\n",
    "sns.violinplot(data=final_df_2, y=\"target\",\n",
    "x=final_df_2.index)\n",
    "plt.xlabel('Records by INDEX')\n",
    "plt.ylabel('Target Personality Classes')\n",
    "plt.title('Spread and Deviation of each class over the records')\n",
    "plt.show()"
   ]
  },
  {
   "cell_type": "code",
   "execution_count": 165,
   "id": "ee0ae365",
   "metadata": {},
   "outputs": [],
   "source": [
    "plt.figure(figsize=(12, 8))\n",
    "sns.countplot(data=final_df_2, y=\"university\", hue=\"Result E/I\")\n",
    "plt.xlabel('Count')\n",
    "plt.ylabel('Universities')\n",
    "plt.title('EI class count over universities')\n",
    "plt.show()"
   ]
  },
  {
   "cell_type": "code",
   "execution_count": 166,
   "id": "781c62c6",
   "metadata": {},
   "outputs": [],
   "source": [
    "plt.figure(figsize=(12, 8))\n",
    "sns.countplot(data=final_df_2, y=\"university\", hue=\"Result S/N\")\n",
    "plt.xlabel('Count')\n",
    "plt.ylabel('Universities')\n",
    "plt.title('SN class count over universities')\n",
    "plt.show()"
   ]
  },
  {
   "cell_type": "code",
   "execution_count": 167,
   "id": "3474b42e",
   "metadata": {},
   "outputs": [],
   "source": [
    "plt.figure(figsize=(12, 8))\n",
    "sns.countplot(data=final_df_2, y=\"university\", hue=\"Result T/F\")\n",
    "plt.xlabel('Count')\n",
    "plt.ylabel('Universities')\n",
    "plt.title('TF class count over universities')\n",
    "plt.show()"
   ]
  },
  {
   "cell_type": "code",
   "execution_count": 168,
   "id": "2371e8a8",
   "metadata": {},
   "outputs": [],
   "source": [
    "plt.figure(figsize=(12, 8))\n",
    "sns.countplot(data=final_df_2, y=\"university\", hue=\"Result J/P\")\n",
    "plt.xlabel('Count')\n",
    "plt.ylabel('Universities')\n",
    "plt.title('JP class count over universities')\n",
    "plt.show()"
   ]
  },
  {
   "cell_type": "code",
   "execution_count": 169,
   "id": "f4a7bff8",
   "metadata": {},
   "outputs": [],
   "source": [
    "plt.figure(figsize=(12, 8))\n",
    "sns.barplot(data=final_df_2, x=final_df_2.index, y=\"target\")\n",
    "plt.xlabel('Personality Target Classes')\n",
    "plt.ylabel('Count')\n",
    "plt.title('Target class distribution')\n",
    "plt.show()"
   ]
  },
  {
   "cell_type": "code",
   "execution_count": null,
   "id": "d0727f26",
   "metadata": {},
   "outputs": [],
   "source": []
  },
  {
   "cell_type": "code",
   "execution_count": null,
   "id": "7e38df5c",
   "metadata": {},
   "outputs": [],
   "source": []
  }
 ],
 "metadata": {
  "kernelspec": {
   "display_name": "Python 3 (ipykernel)",
   "language": "python",
   "name": "python3"
  },
  "language_info": {
   "codemirror_mode": {
    "name": "ipython",
    "version": 3
   },
   "file_extension": ".py",
   "mimetype": "text/x-python",
   "name": "python",
   "nbconvert_exporter": "python",
   "pygments_lexer": "ipython3",
   "version": "3.11.5"
  }
 },
 "nbformat": 4,
 "nbformat_minor": 5
}
